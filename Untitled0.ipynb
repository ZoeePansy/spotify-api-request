{
  "nbformat": 4,
  "nbformat_minor": 0,
  "metadata": {
    "colab": {
      "provenance": []
    },
    "kernelspec": {
      "name": "python3",
      "display_name": "Python 3"
    },
    "language_info": {
      "name": "python"
    }
  },
  "cells": [
    {
      "cell_type": "code",
      "execution_count": 1,
      "metadata": {
        "colab": {
          "base_uri": "https://localhost:8080/"
        },
        "id": "aCx_ndWnhEfX",
        "outputId": "c4a54215-a3be-42e1-de12-9afa84641e5f"
      },
      "outputs": [
        {
          "output_type": "stream",
          "name": "stdout",
          "text": [
            "Looking in indexes: https://pypi.org/simple, https://us-python.pkg.dev/colab-wheels/public/simple/\n",
            "Collecting spotipy\n",
            "  Downloading spotipy-2.22.1-py3-none-any.whl (28 kB)\n",
            "Requirement already satisfied: requests>=2.25.0 in /usr/local/lib/python3.8/dist-packages (from spotipy) (2.25.1)\n",
            "Requirement already satisfied: six>=1.15.0 in /usr/local/lib/python3.8/dist-packages (from spotipy) (1.15.0)\n",
            "Collecting redis>=3.5.3\n",
            "  Downloading redis-4.5.1-py3-none-any.whl (238 kB)\n",
            "\u001b[2K     \u001b[90m━━━━━━━━━━━━━━━━━━━━━━━━━━━━━━━━━━━━━━━\u001b[0m \u001b[32m238.5/238.5 KB\u001b[0m \u001b[31m5.5 MB/s\u001b[0m eta \u001b[36m0:00:00\u001b[0m\n",
            "\u001b[?25hCollecting urllib3>=1.26.0\n",
            "  Downloading urllib3-1.26.14-py2.py3-none-any.whl (140 kB)\n",
            "\u001b[2K     \u001b[90m━━━━━━━━━━━━━━━━━━━━━━━━━━━━━━━━━━━━━━━\u001b[0m \u001b[32m140.6/140.6 KB\u001b[0m \u001b[31m8.2 MB/s\u001b[0m eta \u001b[36m0:00:00\u001b[0m\n",
            "\u001b[?25hRequirement already satisfied: async-timeout>=4.0.2 in /usr/local/lib/python3.8/dist-packages (from redis>=3.5.3->spotipy) (4.0.2)\n",
            "Requirement already satisfied: idna<3,>=2.5 in /usr/local/lib/python3.8/dist-packages (from requests>=2.25.0->spotipy) (2.10)\n",
            "Requirement already satisfied: certifi>=2017.4.17 in /usr/local/lib/python3.8/dist-packages (from requests>=2.25.0->spotipy) (2022.12.7)\n",
            "Requirement already satisfied: chardet<5,>=3.0.2 in /usr/local/lib/python3.8/dist-packages (from requests>=2.25.0->spotipy) (4.0.0)\n",
            "Installing collected packages: urllib3, redis, spotipy\n",
            "  Attempting uninstall: urllib3\n",
            "    Found existing installation: urllib3 1.24.3\n",
            "    Uninstalling urllib3-1.24.3:\n",
            "      Successfully uninstalled urllib3-1.24.3\n",
            "Successfully installed redis-4.5.1 spotipy-2.22.1 urllib3-1.26.14\n"
          ]
        }
      ],
      "source": [
        "!pip install spotipy"
      ]
    },
    {
      "cell_type": "code",
      "source": [
        "import spotipy\n",
        "from spotipy.oauth2 import SpotifyClientCredentials\n",
        "\n",
        "client_id = \n",
        "client_secret = \n",
        "\n",
        "spotify = spotipy.Spotify(auth_manager=SpotifyClientCredentials(client_id, client_secret))\n",
        "\n",
        "tracks = spotify.search(q=\"Stephanie Tarling - Fly Me To The Moon\" , type=\"track\" )\n",
        "tracks = tracks[\"tracks\"][\"items\"]\n",
        "\n",
        "i =  0\n",
        "while i < len(tracks):\n",
        "    url = tracks[i][\"preview_url\"]\n",
        "    print(url)\n",
        "    i = i + 1"
      ],
      "metadata": {
        "colab": {
          "base_uri": "https://localhost:8080/"
        },
        "id": "hDlovIvxh8jC",
        "outputId": "62742c58-067b-4607-f8d7-f480a0e3ef5f"
      },
      "execution_count": 11,
      "outputs": [
        {
          "output_type": "stream",
          "name": "stdout",
          "text": [
            "https://p.scdn.co/mp3-preview/c1a08cbe524162626c0ea5b3409af41b5a79f6ef?cid=cbb66a71301d43a5ade93755a1a1b585\n",
            "https://p.scdn.co/mp3-preview/ab43de670692fca7986b168bf35dd65749fe4c93?cid=cbb66a71301d43a5ade93755a1a1b585\n",
            "https://p.scdn.co/mp3-preview/dac0e1374f2b15e07c6230b16195f8e79c9fe457?cid=cbb66a71301d43a5ade93755a1a1b585\n",
            "https://p.scdn.co/mp3-preview/a4157c7ffee68aae803e4fe167da7be59814acca?cid=cbb66a71301d43a5ade93755a1a1b585\n",
            "https://p.scdn.co/mp3-preview/a42ed370019c680c4b1c61b016529f23c36d33de?cid=cbb66a71301d43a5ade93755a1a1b585\n",
            "https://p.scdn.co/mp3-preview/6910addb5ae0e6c84ce6125c4203a15eb1f0d6a9?cid=cbb66a71301d43a5ade93755a1a1b585\n",
            "https://p.scdn.co/mp3-preview/bd3e70e0c1273189dc4c308f440a9936c9b60ff2?cid=cbb66a71301d43a5ade93755a1a1b585\n",
            "https://p.scdn.co/mp3-preview/e07890691c98e801d9d0602d958dc06061755f43?cid=cbb66a71301d43a5ade93755a1a1b585\n",
            "https://p.scdn.co/mp3-preview/420a657aa0ed530498aeb6de1142938db2cf095a?cid=cbb66a71301d43a5ade93755a1a1b585\n",
            "https://p.scdn.co/mp3-preview/908fcaab96f32d590304b42b0068eed6c05558ff?cid=cbb66a71301d43a5ade93755a1a1b585\n"
          ]
        }
      ]
    },
    {
      "cell_type": "code",
      "source": [
        "tracks = spotify.search(q=\"pure imagination\" , type=\"track\" , limit=1)\n",
        "\n",
        "track_id = tracks[\"tracks\"][\"items\"][0][\"id\"]\n",
        "\n",
        "track_analysis = spotify.audio_analysis(track_id=track_id)\n",
        "\n",
        "track_analysis = track_analysis[\"track\"][\"tempo\"]\n",
        "\n",
        "print(track_analysis)"
      ],
      "metadata": {
        "colab": {
          "base_uri": "https://localhost:8080/"
        },
        "id": "9bxGR71wnuiK",
        "outputId": "74eb7f6d-2c5f-4025-f549-f76d22b2bcc0"
      },
      "execution_count": 21,
      "outputs": [
        {
          "output_type": "stream",
          "name": "stdout",
          "text": [
            "97.008\n"
          ]
        }
      ]
    }
  ]
}